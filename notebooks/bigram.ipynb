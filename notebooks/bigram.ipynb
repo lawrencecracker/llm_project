import torch
import matplotlib.pyplot as plt

print("Torch version:", torch.__version__)
print("CUDA available:", torch.cuda.is_availabl
e())
